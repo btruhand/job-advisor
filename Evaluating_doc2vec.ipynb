{
 "cells": [
  {
   "cell_type": "markdown",
   "metadata": {
    "colab_type": "text",
    "id": "pDSToNDc9XSE"
   },
   "source": [
    "# Load Doc2Vec model"
   ]
  },
  {
   "cell_type": "code",
   "execution_count": 0,
   "metadata": {
    "colab": {},
    "colab_type": "code",
    "id": "HO6LJ8hf9XSF"
   },
   "outputs": [],
   "source": [
    "from gensim.models.doc2vec import Doc2Vec\n",
    "import pandas as pd\n",
    "\n",
    "model = Doc2Vec.load('doc2vec_model/doc2vec_model_cont_er')"
   ]
  },
  {
   "cell_type": "markdown",
   "metadata": {
    "colab_type": "text",
    "id": "jKWEQAVU9XSI"
   },
   "source": [
    "# Load corpus"
   ]
  },
  {
   "cell_type": "code",
   "execution_count": 0,
   "metadata": {
    "colab": {},
    "colab_type": "code",
    "id": "DjPy7nVW9XSJ"
   },
   "outputs": [],
   "source": [
    "from gensim.models.doc2vec import TaggedLineDocument\n",
    "corpus = TaggedLineDocument(\"doc2vec_data/corpus_continuing_er.cor\")"
   ]
  },
  {
   "cell_type": "code",
   "execution_count": 0,
   "metadata": {
    "colab": {
     "base_uri": "https://localhost:8080/",
     "height": 34
    },
    "colab_type": "code",
    "id": "jWbaEUDa9XSL",
    "outputId": "c85c1b69-64c6-44aa-a9af-691ba11715aa"
   },
   "outputs": [
    {
     "name": "stdout",
     "output_type": "stream",
     "text": [
      "[0]\n"
     ]
    }
   ],
   "source": [
    "for idx, i in enumerate(corpus):\n",
    "    print(i.tags)\n",
    "    break"
   ]
  },
  {
   "cell_type": "code",
   "execution_count": 0,
   "metadata": {
    "colab": {
     "base_uri": "https://localhost:8080/",
     "height": 34
    },
    "colab_type": "code",
    "id": "rmtpXaN99XSP",
    "outputId": "2c5653b9-9223-4c79-b072-38a3f755ea94"
   },
   "outputs": [
    {
     "data": {
      "text/plain": [
       "457277"
      ]
     },
     "execution_count": 9,
     "metadata": {
      "tags": []
     },
     "output_type": "execute_result"
    }
   ],
   "source": [
    "len(model.docvecs)"
   ]
  },
  {
   "cell_type": "markdown",
   "metadata": {
    "colab_type": "text",
    "id": "F6vGryWY9XSR"
   },
   "source": [
    "# Assessing doc2vec model"
   ]
  },
  {
   "cell_type": "code",
   "execution_count": 0,
   "metadata": {
    "colab": {},
    "colab_type": "code",
    "id": "-bra5_Jr9XSS"
   },
   "outputs": [],
   "source": [
    "def find_corpus_docs_similar_docs():\n",
    "    for doc in corpus:\n",
    "        doc_id = doc.tags[0]\n",
    "        inferred_vector = model.infer_vector(doc.words)\n",
    "        # get only top 10\n",
    "        sims = model.docvecs.most_similar([inferred_vector], topn=10)\n",
    "        similar_document_ids = [doc_id for doc_id, _ in sims]\n",
    "        if doc_id in similar_document_ids:\n",
    "            yield doc_id, similar_document_ids.index(doc_id), similar_document_ids\n",
    "        else:\n",
    "            yield doc_id, 999999999999, similar_document_ids # mark some dead value"
   ]
  },
  {
   "cell_type": "code",
   "execution_count": 0,
   "metadata": {
    "colab": {},
    "colab_type": "code",
    "id": "gvghoVTG9XSW"
   },
   "outputs": [],
   "source": [
    "similar_docs_gen = find_corpus_docs_similar_docs()"
   ]
  },
  {
   "cell_type": "code",
   "execution_count": 0,
   "metadata": {
    "colab": {},
    "colab_type": "code",
    "id": "24Rq7qZr9XSd"
   },
   "outputs": [],
   "source": [
    "similarities = [None] * len(model.docvecs)\n",
    "for similarity in similar_docs_gen:\n",
    "    if similarity[0] % 10000 == 0: \n",
    "      print(\"Current doc ID %d\" % similarity[0])\n",
    "    similarities[similarity[0]] = similarity"
   ]
  },
  {
   "cell_type": "code",
   "execution_count": 0,
   "metadata": {
    "colab": {},
    "colab_type": "code",
    "id": "rvFAik2EZhtG"
   },
   "outputs": [],
   "source": [
    "df = pd.DataFrame(similarities, columns=['doc_id','most_similar_index','top10_similarity_ranking'])"
   ]
  },
  {
   "cell_type": "code",
   "execution_count": 0,
   "metadata": {
    "colab": {},
    "colab_type": "code",
    "id": "OrTOioi4ZhtJ",
    "outputId": "d0b62479-42a0-435c-ac6c-6d17123476f2"
   },
   "outputs": [
    {
     "ename": "NameError",
     "evalue": "name 'df' is not defined",
     "output_type": "error",
     "traceback": [
      "\u001b[0;31m---------------------------------------------------------------------------\u001b[0m",
      "\u001b[0;31mNameError\u001b[0m                                 Traceback (most recent call last)",
      "\u001b[0;32m<ipython-input-1-4a676c3d8c05>\u001b[0m in \u001b[0;36m<module>\u001b[0;34m\u001b[0m\n\u001b[0;32m----> 1\u001b[0;31m \u001b[0mdf\u001b[0m\u001b[0;34m.\u001b[0m\u001b[0mhead\u001b[0m\u001b[0;34m(\u001b[0m\u001b[0;36m10\u001b[0m\u001b[0;34m)\u001b[0m\u001b[0;34m\u001b[0m\u001b[0;34m\u001b[0m\u001b[0m\n\u001b[0m",
      "\u001b[0;31mNameError\u001b[0m: name 'df' is not defined"
     ]
    }
   ],
   "source": [
    "df.head(10)"
   ]
  },
  {
   "cell_type": "markdown",
   "metadata": {
    "colab_type": "text",
    "id": "mVoOmnC1ZhtN"
   },
   "source": [
    "## Saving findings"
   ]
  },
  {
   "cell_type": "code",
   "execution_count": 0,
   "metadata": {
    "colab": {},
    "colab_type": "code",
    "id": "weyRvX6sZhtO"
   },
   "outputs": [],
   "source": [
    "df.to_json('findings/doc2vec_evaluation.json.gz', orient='records', lines=True, compression='gzip')"
   ]
  },
  {
   "cell_type": "markdown",
   "metadata": {
    "colab_type": "text",
    "id": "zYbHRJlCZhtQ"
   },
   "source": [
    "# Load evaluation"
   ]
  },
  {
   "cell_type": "code",
   "execution_count": 0,
   "metadata": {
    "colab": {},
    "colab_type": "code",
    "id": "XeXSD7_yZhtQ"
   },
   "outputs": [],
   "source": [
    "ev_df = pd.read_json('findings/doc2vec_evaluation.json.gz', orient='records', lines=True, compression='gzip')"
   ]
  },
  {
   "cell_type": "code",
   "execution_count": 0,
   "metadata": {
    "colab": {},
    "colab_type": "code",
    "id": "VVqJdnIT9XSv",
    "outputId": "36ffb3f5-0b8f-423d-ba44-ab8b562d8cdf"
   },
   "outputs": [
    {
     "name": "stdout",
     "output_type": "stream",
     "text": [
      "93.856985% of the documents are ranked first\n"
     ]
    }
   ],
   "source": [
    "import collections\n",
    "ranking_counter = collections.Counter(ev_df['most_similar_index'])\n",
    "ranking_counter\n",
    "\n",
    "num = ranking_counter[0]\n",
    "denom = 0\n",
    "for i in range(0, 10):\n",
    "    denom += ranking_counter[i] \n",
    "    \n",
    "print(\"%f%% of the documents are ranked first\" % ((num / denom) * 100)) "
   ]
  },
  {
   "cell_type": "code",
   "execution_count": 0,
   "metadata": {
    "colab": {},
    "colab_type": "code",
    "id": "MqdWpeiIZhtW"
   },
   "outputs": [],
   "source": [
    "l_corpus = list(corpus)"
   ]
  },
  {
   "cell_type": "code",
   "execution_count": 0,
   "metadata": {
    "colab": {},
    "colab_type": "code",
    "id": "VStuSx7I9XS2"
   },
   "outputs": [],
   "source": [
    "# sample 10 randomly\n",
    "sampled = ev_df.sample(n=10, random_state=56)\n",
    "\n",
    "comparing_docs = sampled['top10_similarity_ranking'].transform(lambda x: list(map(lambda y: l_corpus[y], x)))"
   ]
  },
  {
   "cell_type": "code",
   "execution_count": 0,
   "metadata": {
    "colab": {},
    "colab_type": "code",
    "id": "a6QALRMnZhtc",
    "outputId": "bf2122fe-8ca0-435a-bfd4-48f4d3a9200f"
   },
   "outputs": [
    {
     "name": "stdout",
     "output_type": "stream",
     "text": [
      "================================\n",
      "For document #181094\n",
      "most similar #1 TaggedDocument(['duties', 'data', 'entry', 'filing', 'customer', 'service', 'editing', 'journal', 'entry', \"'s\", 'sap', 'tax', 'payments', 'water', 'payments', 'daily', 'reports', 'telephone', 'inquiry', \"'s\"], [181094])\n",
      "most similar #2 TaggedDocument(['greet', 'costumer', \"'s\", 'serve', 'water', 'take', 'order'], [291849])\n",
      "most similar #3 TaggedDocument(['greeting', 'customers', 'serving', 'alcohol', 'food', 'taking', 'payments', 'scheduling', 'staff', \"'s\", 'shifts'], [306937])\n",
      "================================\n",
      "================================\n",
      "For document #383085\n",
      "most similar #1 TaggedDocument(['heaven', \"'s\", 'floral', 'windsor', 'sept', 'present', 'assistant', 'event', 'staff', 'servers', 'lists', 'duties', 'like', 'greeting', 'guests', 'leading', 'table', 'responding', 'requests', 'checking', 'table', 'decoration', 'refilling', 'glasses', 'anticipating', 'guest', 'needs', 'keeping', 'premises', 'clean'], [383085])\n",
      "most similar #2 TaggedDocument(['responsible', 'greeting', 'customers', 'leading', 'tables', 'delivered', 'food', 'beverages', 'customer', \"'s\", 'tables', 'decorated', 'showrooms'], [289449])\n",
      "most similar #3 TaggedDocument(['arranging', 'guest', 'lists', '◦', 'leading', 'buses', '◦', 'dealing', 'customer', 'satisfaction', 'issues', '◦', 'monetary', 'duties', 'payment', 'venues', '◦', 'building', 'relationships', 'industry', 'executives'], [349410])\n",
      "================================\n",
      "================================\n",
      "For document #177195\n",
      "most similar #1 TaggedDocument(['student', 'member', 'private', 'residence', 'town', 'mount', 'royal', '2nd', 'place', 'pave', 'student', 'design', 'challenge', 'make', 'plan', 'colour', 'suggestions', 'presented', 'pave', 'project', 'globalshop', 'draft', 'plan', 'sketches', 'coordinating', 'comittee', 'vernisage', 'meet', 'town', 'bylaws', 'deadlines', 'planned', 'wedding', 'traveled', 'china'], [177195])\n",
      "most similar #2 TaggedDocument(['plan', 'design', 'structures', 'private', 'residences', 'office', 'buildings', 'theaters', 'factories', 'structural', 'property'], [156])\n",
      "most similar #3 TaggedDocument(['completed', 'payroll', 'manufacturing', 'plan', '250', 'employees'], [359750])\n",
      "================================\n",
      "================================\n",
      "For document #96860\n",
      "most similar #1 TaggedDocument(['researched', 'audience', 'interest', 'various', 'conferences', 'marketing', 'purposes', 'resulting', 'greater', 'conference', 'attendance', 'prioritized', 'multi-tasked', 'on-site', 'efficiently', 'perform', 'room', 'checks', 'check', 'ins', 'attendees', 'guide', 'attendees', 'conference', 'rooms', 'prepared', 'organized', 'conference', 'material', 'welcome', 'kits', '500-1200', 'people', 'conferences'], [96860])\n",
      "most similar #2 TaggedDocument(['on-site', 'help', 'desk', 'agent'], [227092])\n",
      "most similar #3 TaggedDocument(['working', 'home', 'on-site', 'full-cycle', 'bookkeeping', 'including', 'government', 'remittances', 'filing'], [375540])\n",
      "================================\n",
      "================================\n",
      "For document #60759\n",
      "most similar #1 TaggedDocument(['balance', 'credit', 'card', 'reconciliation', 'cash', 'ensure', 'rates', 'correct', 'posted', 'properly', 'ensure', 'rooms', 'proper', 'payment/', 'cc', 'authorization', 'run', 'audit', 'produce', 'room', 'revenue', 'stats', 'report', 'general', 'manager', 'ensure', 'gm', 'receives', 'pertinent', 'reports', 'organize', 'outgoing', 'accounts', 'receivables', 'assign', 'housekeeping', 'room', 'schedule', 'next', 'day', 'provide', 'night', 'security', 'track', 'process', 'a/r', 'payments', 'follow', 'merchants', 'regarding', 'balances', 'owing', 'print', 'mailout', 'invoices', 'statements', 'provide', 'gm', 'head', 'office', 'accounting', 'dept', 'month', 'end', 'report', 'outlining', 'activity', 'accounts', 'receivables', 'assist', 'training', 'new', 'staff', 'light', 'maintenance', 'property', 'required', 'requested'], [60759])\n",
      "most similar #2 TaggedDocument(['balance', 'credit/debit', 'card', 'reconciliation', 'front', 'desk', 'pub', 'balance', 'cash', 'drawers', 'front', 'desk', 'ensure', 'rates', 'correct', 'posted', 'properly', 'bucket', 'check', 'ensure', 'rooms', 'proper', 'payment/', 'cc', 'authorization', 'run', 'audit', 'produce', 'room', 'revenue', 'stats', 'report', 'hotel', 'managers', 'check', 'welcome', 'late', 'arriving', 'guests', 'hotel', 'provide', 'night', 'security', 'ensuring', 'doors', 'secure', 'locked', 'security', 'sweeps', 'parking', 'lot', 'floor', 'hotel', 'checking', 'departing', 'guests', 'ensuring', 'stay', 'great', 'experience', 'rectify', 'situation', 'refer', 'management', 'follow', 'need'], [60758])\n",
      "most similar #3 TaggedDocument(['selling/upselling', 'hotel', 'rooms', 'amenities', 'balance', 'credit/debit', 'card', 'reconciliation', 'front', 'desk', 'balance', 'cash', 'drawer', 'front', 'desk', 'balance', 'cash', 'back', 'safe', 'ensure', 'rates', 'correct', 'posted', 'properly', 'bucket', 'check', 'ensure', 'rooms', 'proper', 'payment/', 'cc', 'authorization', 'run', 'audit', 'produce', 'room', 'revenue', 'stats', 'report', 'gm', 'head', 'office', 'check', 'a/nd', 'welcome', 'late', 'arriving', 'guests', 'hotel', 'provide', 'night', 'security', 'ensuring', 'doors', 'secure', 'locked', 'security', 'sweeps', 'parking', 'lot', 'floor', 'hotel', 'checking', 'departing', 'guests', 'ensuring', 'stay', 'good', 'experience', 'rectify', 'situation', 'refer', 'management', 'follow', 'need'], [60757])\n",
      "================================\n",
      "================================\n",
      "For document #363969\n",
      "most similar #1 TaggedDocument(['charge', 'processing', 'payroll', '50', 'employees', 'sage', '100', 'depositing', 'cheques', 'bank', 'using', 'deposit', 'edge', 'machine', 'answering', 'phone', 'calls', 'dealing', 'customer', 'concerns', 'greeting', 'customers', 'couriers', 'processing', 'timesheets', 'daily', 'employees', 'checking', 'cityworks', 'work', 'orders', 'issuing', 'efficiently'], [363969])\n",
      "most similar #2 TaggedDocument(['janitorial', 'services', 'auto', 'scrub', 'floors', 'vacuum', 'damp', 'mop', 'edge', 'moping', 'spray', 'buffing'], [434350])\n",
      "most similar #3 TaggedDocument(['healthy', 'edge', 'wellness', 'facilitator/bodymind', 'nutrition', 'wellness', 'coach'], [51609])\n",
      "================================\n",
      "================================\n",
      "For document #390167\n",
      "most similar #1 TaggedDocument(['worked', 'line', 'cook', 'april', '2014', 'became', 'head', 'chef', 'kitchen', 'manager', 'duties', 'include', 'opening/closing', 'overseeing', 'ordering', 'inventory', 'designing', 'unique', 'means', 'events', 'delegating', 'kitchen', 'staff', 'peak', 'hours', 'rushes', 'scheduling', 'food', 'preparation'], [390167])\n",
      "most similar #2 TaggedDocument(['scheduling', 'events', 'jewellery', 'design/', 'sales', 'customer', 'service', 'jewellery', 'repair'], [99577])\n",
      "most similar #3 TaggedDocument(['line', 'cook', 'prep', 'events', 'dishes'], [403805])\n",
      "================================\n",
      "================================\n",
      "For document #344355\n",
      "most similar #1 TaggedDocument(['provided', 'excellent', 'customer', 'service', 'actively', 'greeted/seated', 'customers', 'ensured', 'tables', 'cleaned', 'reset', 'efficiently', 'promptly', 'assisted', 'kitchen', 'staff', 'prepare', 'orders', 'duties', 'required'], [344355])\n",
      "most similar #2 TaggedDocument(['actively', 'conversed', 'students', 'parents', 'assisted', 'setting', 'classroom'], [404213])\n",
      "most similar #3 TaggedDocument(['provided', 'exceptional', 'customer', 'service', 'operated', 'cash', 'register', 'prepared', 'customers', 'orders', 'timely', 'manner', 'assisted', 'opening', 'closing', 'procedures'], [354126])\n",
      "================================\n",
      "================================\n",
      "For document #410285\n",
      "most similar #1 TaggedDocument(['responsibilitiesefficiently', 'correctly', 'find', 'parts', 'needed', 'customers', 'off-road', 'honda', 'suzuki', 'yamaha', 'machines', 'answer', 'high', 'volume', 'phone', 'calls', 'attending', 'customers', 'store', 'parts', 'retaildecide', 'manage', 'ordering', 'booking', 'programs', 'maintaining', 'right', 'stock', 'service', 'customers', 'recieving', 'product', 'comes', 'ininventoryopening', 'closing', 'everydayfinding', 'new', 'ways', 'merchandise', 'appeal', 'public', 'accomplishments', 'since', 'started', 'december', 'moved', 'management', 'starting', 'month', 'july', 'exceeding', 'bosses', 'expectations', 'making', 'good', 'improvement', 'shop', 'skills', 'usedleadershipmanagementcustomer', 'service', 'skills', 'able', 'adapt', 'asses', 'moods', 'people', 'serving', 'working', 'broad', 'knowledge', 'engines', 'partsorganization', 'computer', 'skills', 'number', 'programs'], [410285])\n",
      "most similar #2 TaggedDocument(['responsibilities', 'manage', 'booking', 'welcoming', 'customers', 'serve', 'customers', 'explain', 'peculiarities', 'restaurant', 'train', 'new', 'staff', 'manage', 'stocks', 'skills', 'used', 'customers', 'service', 'cummunication', 'bilingualism', 'management', 'implication', 'staff', 'training', 'oenology'], [314856])\n",
      "most similar #3 TaggedDocument(['responsibilities', 'manage', 'store', 'stocking', 'selling'], [297119])\n",
      "================================\n",
      "================================\n",
      "For document #142204\n",
      "most similar #1 TaggedDocument(['chennai', 'india', 'provided', 'superior', 'customer', 'experience', 'addressing', 'customer', 'concerns', 'demonstrating', 'empathy', 'resolving', 'problems', 'swiftly', 'recommended', 'products', 'services', 'aligned', 'customer', \"'s\", 'needs', 'preferences', 'served', 'liaison', 'customers', 'management', 'sales', 'team', 'assisted', 'customers', 'proactively', 'listening', 'providing', 'solutions', 'problems', 'made', 'educated', 'recommendations', 'based', 'extensive', 'product', 'knowledge'], [142204])\n",
      "most similar #2 TaggedDocument(['dhaka', 'bangladesh', 'assisted', 'customers', 'listening', 'finding', 'solutions', 'problems', 'making', 'recommendations', 'based', 'extensive', 'product', 'knowledge', 'asked', 'open-ended', 'questions', 'assess', 'customer', 'needs', 'learned', 'referenced', 'applied', 'product', 'knowledge', 'information', 'recommended', 'products', 'services', 'aligned', 'customers', 'needs', 'preferences', 'directed', 'calls', 'appropriate', 'individuals', 'departments'], [89736])\n",
      "most similar #3 TaggedDocument(['educated', 'recommend', 'banking', 'credit', 'investment', 'products', 'specific', 'needs', 'clients', '’', 'top', 'ten', 'performer', '2010', '2011', 'based', 'net', 'promoter', 'score', 'nps'], [64397])\n",
      "================================\n"
     ]
    }
   ],
   "source": [
    "for doc_id, similar_docs in comparing_docs.iteritems():\n",
    "  print(\"================================\")\n",
    "  print(\"For document #%d\" % doc_id)\n",
    "  for idx, doc in enumerate(similar_docs[:3]):\n",
    "    print(\"most similar #%d\" % (idx + 1), doc)\n",
    "  print(\"================================\")"
   ]
  },
  {
   "cell_type": "code",
   "execution_count": 0,
   "metadata": {
    "colab": {},
    "colab_type": "code",
    "id": "PsvmAPMnZhtg",
    "outputId": "48ca163d-59e3-4f45-d7a1-2a6ed228a98b"
   },
   "outputs": [
    {
     "data": {
      "text/plain": [
       "12"
      ]
     },
     "execution_count": 47,
     "metadata": {
      "tags": []
     },
     "output_type": "execute_result"
    }
   ],
   "source": [
    "from gensim.test.utils import common_corpus, common_dictionary\n",
    "\n",
    "len(common_dictionary)"
   ]
  },
  {
   "cell_type": "code",
   "execution_count": 0,
   "metadata": {
    "colab": {},
    "colab_type": "code",
    "id": "9h92A-2IZhtk"
   },
   "outputs": [],
   "source": [
    "num_occupation_data = 1110\n",
    "onet_occupation_similarity = [None] * len(model.docvecs) # make it simple, wasting space but okay\n",
    "\n",
    "def compute_top5_onet_occupation_similarity():\n",
    "  for doc in corpus:\n",
    "    doc_id = doc.tags[0]\n",
    "    if doc_id > num_occupation_data - 1:\n",
    "      similarity = model.docvecs.most_similar(positive=[model.infer_vector(doc.words)], clip_start=0, clip_end=num_occupation_data - 1, topn=5)\n",
    "      for similar_doc_id, similarity_val in similarity:\n",
    "        yield doc_id, similar_doc_id, similarity_val"
   ]
  },
  {
   "cell_type": "code",
   "execution_count": 0,
   "metadata": {
    "colab": {},
    "colab_type": "code",
    "id": "sZcHBjVIcLDp"
   },
   "outputs": [],
   "source": [
    "onet_similarity_gen = compute_top5_onet_occupation_similarity()"
   ]
  },
  {
   "cell_type": "code",
   "execution_count": 0,
   "metadata": {
    "colab": {
     "base_uri": "https://localhost:8080/",
     "height": 71
    },
    "colab_type": "code",
    "id": "yVgi9kVNcQvs",
    "outputId": "a4a29714-b83a-41a5-ad02-024e69dc81d1"
   },
   "outputs": [
    {
     "name": "stderr",
     "output_type": "stream",
     "text": [
      "/usr/local/lib/python3.6/dist-packages/gensim/matutils.py:737: FutureWarning: Conversion of the second argument of issubdtype from `int` to `np.signedinteger` is deprecated. In future, it will be treated as `np.int64 == np.dtype(int).type`.\n",
      "  if np.issubdtype(vec.dtype, np.int):\n"
     ]
    }
   ],
   "source": [
    "onet_similarity_l = list(onet_similarity_gen)"
   ]
  },
  {
   "cell_type": "code",
   "execution_count": 0,
   "metadata": {
    "colab": {},
    "colab_type": "code",
    "id": "l7xQuyOoazOW"
   },
   "outputs": [],
   "source": [
    "df = pd.DataFrame(onet_similarity_l, columns=['doc_id', 'similar_doc_id', 'similarity'])\n",
    "df.to_json('findings/resume_job_title_onet_similarity.json.gz', orient='records', lines=True, compression='gzip')"
   ]
  },
  {
   "cell_type": "code",
   "execution_count": 0,
   "metadata": {
    "colab": {
     "base_uri": "https://localhost:8080/",
     "height": 669
    },
    "colab_type": "code",
    "id": "wgPufrvXxKgl",
    "outputId": "441018d4-dda4-4c00-ca6d-ef3f4ff1da26"
   },
   "outputs": [
    {
     "data": {
      "text/html": [
       "<div>\n",
       "<style scoped>\n",
       "    .dataframe tbody tr th:only-of-type {\n",
       "        vertical-align: middle;\n",
       "    }\n",
       "\n",
       "    .dataframe tbody tr th {\n",
       "        vertical-align: top;\n",
       "    }\n",
       "\n",
       "    .dataframe thead th {\n",
       "        text-align: right;\n",
       "    }\n",
       "</style>\n",
       "<table border=\"1\" class=\"dataframe\">\n",
       "  <thead>\n",
       "    <tr style=\"text-align: right;\">\n",
       "      <th></th>\n",
       "      <th>doc_id</th>\n",
       "      <th>similar_doc_id</th>\n",
       "      <th>similarity</th>\n",
       "    </tr>\n",
       "  </thead>\n",
       "  <tbody>\n",
       "    <tr>\n",
       "      <th>0</th>\n",
       "      <td>1110</td>\n",
       "      <td>697</td>\n",
       "      <td>0.248268</td>\n",
       "    </tr>\n",
       "    <tr>\n",
       "      <th>1</th>\n",
       "      <td>1110</td>\n",
       "      <td>333</td>\n",
       "      <td>0.240068</td>\n",
       "    </tr>\n",
       "    <tr>\n",
       "      <th>2</th>\n",
       "      <td>1110</td>\n",
       "      <td>391</td>\n",
       "      <td>0.218263</td>\n",
       "    </tr>\n",
       "    <tr>\n",
       "      <th>3</th>\n",
       "      <td>1110</td>\n",
       "      <td>289</td>\n",
       "      <td>0.209814</td>\n",
       "    </tr>\n",
       "    <tr>\n",
       "      <th>4</th>\n",
       "      <td>1110</td>\n",
       "      <td>358</td>\n",
       "      <td>0.209138</td>\n",
       "    </tr>\n",
       "    <tr>\n",
       "      <th>5</th>\n",
       "      <td>1111</td>\n",
       "      <td>47</td>\n",
       "      <td>0.288252</td>\n",
       "    </tr>\n",
       "    <tr>\n",
       "      <th>6</th>\n",
       "      <td>1111</td>\n",
       "      <td>678</td>\n",
       "      <td>0.259915</td>\n",
       "    </tr>\n",
       "    <tr>\n",
       "      <th>7</th>\n",
       "      <td>1111</td>\n",
       "      <td>476</td>\n",
       "      <td>0.244159</td>\n",
       "    </tr>\n",
       "    <tr>\n",
       "      <th>8</th>\n",
       "      <td>1111</td>\n",
       "      <td>40</td>\n",
       "      <td>0.238234</td>\n",
       "    </tr>\n",
       "    <tr>\n",
       "      <th>9</th>\n",
       "      <td>1111</td>\n",
       "      <td>5</td>\n",
       "      <td>0.227943</td>\n",
       "    </tr>\n",
       "    <tr>\n",
       "      <th>10</th>\n",
       "      <td>1112</td>\n",
       "      <td>110</td>\n",
       "      <td>0.308749</td>\n",
       "    </tr>\n",
       "    <tr>\n",
       "      <th>11</th>\n",
       "      <td>1112</td>\n",
       "      <td>561</td>\n",
       "      <td>0.297782</td>\n",
       "    </tr>\n",
       "    <tr>\n",
       "      <th>12</th>\n",
       "      <td>1112</td>\n",
       "      <td>524</td>\n",
       "      <td>0.293433</td>\n",
       "    </tr>\n",
       "    <tr>\n",
       "      <th>13</th>\n",
       "      <td>1112</td>\n",
       "      <td>727</td>\n",
       "      <td>0.290537</td>\n",
       "    </tr>\n",
       "    <tr>\n",
       "      <th>14</th>\n",
       "      <td>1112</td>\n",
       "      <td>545</td>\n",
       "      <td>0.286472</td>\n",
       "    </tr>\n",
       "    <tr>\n",
       "      <th>15</th>\n",
       "      <td>1113</td>\n",
       "      <td>835</td>\n",
       "      <td>0.282977</td>\n",
       "    </tr>\n",
       "    <tr>\n",
       "      <th>16</th>\n",
       "      <td>1113</td>\n",
       "      <td>538</td>\n",
       "      <td>0.277839</td>\n",
       "    </tr>\n",
       "    <tr>\n",
       "      <th>17</th>\n",
       "      <td>1113</td>\n",
       "      <td>1003</td>\n",
       "      <td>0.263566</td>\n",
       "    </tr>\n",
       "    <tr>\n",
       "      <th>18</th>\n",
       "      <td>1113</td>\n",
       "      <td>197</td>\n",
       "      <td>0.261070</td>\n",
       "    </tr>\n",
       "    <tr>\n",
       "      <th>19</th>\n",
       "      <td>1113</td>\n",
       "      <td>215</td>\n",
       "      <td>0.259595</td>\n",
       "    </tr>\n",
       "  </tbody>\n",
       "</table>\n",
       "</div>"
      ],
      "text/plain": [
       "    doc_id  similar_doc_id  similarity\n",
       "0     1110             697    0.248268\n",
       "1     1110             333    0.240068\n",
       "2     1110             391    0.218263\n",
       "3     1110             289    0.209814\n",
       "4     1110             358    0.209138\n",
       "5     1111              47    0.288252\n",
       "6     1111             678    0.259915\n",
       "7     1111             476    0.244159\n",
       "8     1111              40    0.238234\n",
       "9     1111               5    0.227943\n",
       "10    1112             110    0.308749\n",
       "11    1112             561    0.297782\n",
       "12    1112             524    0.293433\n",
       "13    1112             727    0.290537\n",
       "14    1112             545    0.286472\n",
       "15    1113             835    0.282977\n",
       "16    1113             538    0.277839\n",
       "17    1113            1003    0.263566\n",
       "18    1113             197    0.261070\n",
       "19    1113             215    0.259595"
      ]
     },
     "execution_count": 12,
     "metadata": {
      "tags": []
     },
     "output_type": "execute_result"
    }
   ],
   "source": [
    "df.head(20)"
   ]
  }
 ],
 "metadata": {
  "colab": {
   "name": "Evaluating_doc2vec.ipynb",
   "provenance": [],
   "version": "0.3.2"
  },
  "kernelspec": {
   "display_name": "Python 3",
   "language": "python",
   "name": "python3"
  },
  "language_info": {
   "codemirror_mode": {
    "name": "ipython",
    "version": 3
   },
   "file_extension": ".py",
   "mimetype": "text/x-python",
   "name": "python",
   "nbconvert_exporter": "python",
   "pygments_lexer": "ipython3",
   "version": "3.6.7"
  }
 },
 "nbformat": 4,
 "nbformat_minor": 1
}
