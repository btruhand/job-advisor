{
 "cells": [
  {
   "cell_type": "markdown",
   "metadata": {},
   "source": [
    "# Skill Advisor model using Word2Vec and K-mean clustering"
   ]
  },
  {
   "cell_type": "markdown",
   "metadata": {},
   "source": [
    "## Preprocessing of the corpus\n",
    "\n",
    "A 'Json' file generated from 'cleaning.py' script is used as the input for this work. The file contains all 15 job related informations having 11 columns.\n"
   ]
  },
  {
   "cell_type": "code",
   "execution_count": 1,
   "metadata": {},
   "outputs": [
    {
     "name": "stdout",
     "output_type": "stream",
     "text": [
      "Index(['additional', 'degree', 'degree_year_time', 'experience', 'id',\n",
      "       'job_details', 'job_duration', 'job_name', 'skill', 'summary', 'title'],\n",
      "      dtype='object')\n"
     ]
    }
   ],
   "source": [
    "#Load the file corpus \n",
    "\n",
    "import glob\n",
    "import pandas as pd\n",
    "\n",
    "\n",
    "# Read json file in dataframe\n",
    "\n",
    "df = pd.read_json('cleaned/resume_output-canada.json', lines=True)\n",
    "print(df.columns)\n",
    "\n",
    "# To Read all json files and put them in one dataframe \n",
    "# Uncomment the following lines and comment the above two lines\n",
    "\n",
    "\n",
    "# all_files = glob.glob('cleaned/*.json')\n",
    "\n",
    "# df_list = []\n",
    "\n",
    "# # Read and append the json files in dataframe\n",
    "# for filename in all_files:\n",
    "#     df = pd.read_json(filename, lines=True)\n",
    "#     df_list.append(df)\n",
    "    \n",
    "# # Concate in one single dataframe\n",
    "# df = pd.concat(df_list, axis=0, ignore_index=True)\n"
   ]
  },
  {
   "cell_type": "markdown",
   "metadata": {},
   "source": [
    "We are interestd in two columns in particular job_name and skill. Lets keep only that two columns and have a look"
   ]
  },
  {
   "cell_type": "code",
   "execution_count": 2,
   "metadata": {},
   "outputs": [
    {
     "name": "stdout",
     "output_type": "stream",
     "text": [
      "  job_name                                              skill\n",
      "0  Cashier  [Microsoft Office, inventory, Scheduling, Trai...\n",
      "1  Cashier  [Customer Service, Customer Service, Team Memb...\n",
      "2  Cashier  [Microsoft Office, Microsoft Word, Microsoft E...\n",
      "3  Cashier  [Food Service, Customer Service, Food Prep, Te...\n",
      "4  Cashier                                                 []\n"
     ]
    }
   ],
   "source": [
    "df = df.loc[:, ['job_name', 'skill']]\n",
    "\n",
    "print(df.head(5))"
   ]
  },
  {
   "cell_type": "markdown",
   "metadata": {},
   "source": [
    "The dataframe contains Job titles and their corresponding skills. Lets do some cleaning."
   ]
  },
  {
   "cell_type": "code",
   "execution_count": 3,
   "metadata": {},
   "outputs": [],
   "source": [
    "import operator\n",
    "from functools import reduce\n",
    "\n",
    "def pre_process(skill_list):\n",
    "    \n",
    "    # Convert list to string\n",
    "    s_skill = [\",\".join(x) for x in skill_list]\n",
    "    # Lower case\n",
    "    s_skill = [x.lower() for x in s_skill]\n",
    "    s_skill = [x.replace(\" and \", \",\") for x in s_skill]\n",
    "    s_skill = [x.replace(\"\\t\", \"\") for x in s_skill]\n",
    "    \n",
    "    # keep all letters, #, +, and space \n",
    "    s_skill = [[\"\".join([c if (ord(c) > 96 and ord(c) < 123 or ord(c) == 32 or \n",
    "                      ord(c) == 35 or ord(c) == 43) else \",\" for c in x])] for x in s_skill]\n",
    "    s_skill = reduce(operator.iconcat, s_skill, [])\n",
    "    s_skill = [x.split(\",\") for x in s_skill]\n",
    "    s_skill = [list(filter(None, x)) for x in s_skill]\n",
    "    s_skill = [[x.strip() for x in y] for y in s_skill]\n",
    "\n",
    "    return s_skill"
   ]
  },
  {
   "cell_type": "code",
   "execution_count": 4,
   "metadata": {},
   "outputs": [
    {
     "name": "stdout",
     "output_type": "stream",
     "text": [
      "  job_name                                              skill\n",
      "0  cashier  [microsoft office, inventory, scheduling, trai...\n",
      "1  cashier  [customer service, customer service, team memb...\n",
      "2  cashier  [microsoft office, microsoft word, microsoft e...\n",
      "3  cashier  [food service, customer service, food prep, te...\n",
      "5  cashier  [keyboarding, word, microsoft windows, custome...\n"
     ]
    }
   ],
   "source": [
    "# Get skills from skill column\n",
    "skills = df.skill.values.tolist()\n",
    "\n",
    "# Do some cleaning and related pre_processing\n",
    "skill_list = pre_process(skills)\n",
    "\n",
    "# Get the job titles\n",
    "job_label = df.job_name.values.tolist()\n",
    "job_label = [x.lower() for x in job_label]\n",
    "\n",
    "# Create a cleaned dataframe\n",
    "df1 = pd.DataFrame({'job_name':job_label, 'skill':skill_list})\n",
    "# Remove empty rows\n",
    "df1 = df1[df1['skill'].map(lambda d: len(d)) > 0]\n",
    "\n",
    "# Save in file for future use\n",
    "# In particular for doc2vec use\n",
    "df1.to_json('wordtovec_cleaned.json', orient='records', lines=True)\n",
    "\n",
    "# Get the skills and corresponsing job titiles \n",
    "skill_list = df1.skill.values.tolist()\n",
    "job_label = df1.job_name.values.tolist()\n",
    "\n",
    "## See the first few lines of df1\n",
    "\n",
    "print(df1.head(5))"
   ]
  },
  {
   "cell_type": "markdown",
   "metadata": {},
   "source": [
    "We have used K Means Clustering to cluster the jobs and relevant skills. It means we need to have job titles in the corpus as well to perform clustering and get (hopefully) relevent skills. To fullfil this requirment we put job titles in random positions of each string (list).  "
   ]
  },
  {
   "cell_type": "code",
   "execution_count": 5,
   "metadata": {},
   "outputs": [],
   "source": [
    "from random import *\n",
    "\n",
    "def title_insert(skill_list, job_label):\n",
    "    \n",
    "    \"\"\"\n",
    "    Function takes \n",
    "    skill_list = A list of lists of all the skills\n",
    "    job_label = A list of job titles. We have 15 different job titiles\n",
    "    \n",
    "    It returns a new list of lists of skills that contains job titles at random positions in the skill_list\n",
    "    \"\"\"\n",
    "    \n",
    "    data1 = skill_list.copy()\n",
    "    \n",
    "    # Loop over the lists of skills\n",
    "    for i in range(len(data1)):\n",
    "        # get a list of skills\n",
    "        string = data1[i]\n",
    "        # get the length\n",
    "        length = len(string)\n",
    "        # choose a random postion for the job title \n",
    "        title_pos = randint(0, length)\n",
    "        count = 0\n",
    "        # Create a list\n",
    "        temp_list = list(range(length+1))\n",
    "        \n",
    "        # populate the new list (temp_list)\n",
    "        for pos in range(length+1):\n",
    "            if pos != title_pos:\n",
    "                temp_list[pos] = string[count]\n",
    "                count = count + 1\n",
    "            else:\n",
    "                temp_list[title_pos] = job_label[i]\n",
    "                \n",
    "        data1[i] = temp_list\n",
    "                \n",
    "    return data1"
   ]
  },
  {
   "cell_type": "code",
   "execution_count": 6,
   "metadata": {},
   "outputs": [
    {
     "name": "stdout",
     "output_type": "stream",
     "text": [
      "[['customer service', 'customer service', 'cashier', 'team member', 'food prep', 'food service'], ['microsoft office', 'microsoft word', 'microsoft excel', 'sage', 'fran', 'ais', 'accounting', 'payroll', 'accounts payable', 'accounts receivable', 'cashier', 'credit'], ['food service', 'customer service', 'food prep', 'cashier', 'team member'], ['keyboarding', 'word', 'microsoft windows', 'customer service', 'cashier', 'team member']]\n"
     ]
    }
   ],
   "source": [
    "# Inset titles randomly on the list\n",
    "skill_job_list = title_insert(skill_list, job_label)\n",
    "\n",
    "print(skill_job_list[1:5])"
   ]
  },
  {
   "cell_type": "markdown",
   "metadata": {},
   "source": [
    "## Word2Vec"
   ]
  },
  {
   "cell_type": "code",
   "execution_count": 7,
   "metadata": {},
   "outputs": [],
   "source": [
    "from gensim.models import Word2Vec\n",
    "\n",
    "# Setup model parameters\n",
    "model = Word2Vec(min_count=2, window=2, size=50)\n",
    "# Build vocabulary\n",
    "model.build_vocab(skill_job_list, progress_per=100)"
   ]
  },
  {
   "cell_type": "code",
   "execution_count": 8,
   "metadata": {},
   "outputs": [
    {
     "data": {
      "text/plain": [
       "(14016284, 20296000)"
      ]
     },
     "execution_count": 8,
     "metadata": {},
     "output_type": "execute_result"
    }
   ],
   "source": [
    "# Train the model\n",
    "model.train(skill_job_list, total_examples=len(skill_job_list), epochs=40)"
   ]
  },
  {
   "cell_type": "markdown",
   "metadata": {},
   "source": [
    "## PCA and t-SNE conversion "
   ]
  },
  {
   "cell_type": "code",
   "execution_count": 34,
   "metadata": {},
   "outputs": [],
   "source": [
    "import matplotlib.pyplot as plt\n",
    "import seaborn as sns\n",
    "import numpy as np\n",
    "sns.set_style(\"darkgrid\")\n",
    "from sklearn.decomposition import PCA\n",
    "from sklearn.manifold import TSNE\n",
    "\n",
    "\n",
    "def tsneconversion(model, word, list_names):\n",
    "    \"\"\" Plot in seaborn the results from the t-SNE dimensionality reduction algorithm of the vectors of a query word,\n",
    "    its list of most similar words, and a list of words.\n",
    "    \"\"\"\n",
    "    word_labels = [word]\n",
    "    color_list  = ['red']\n",
    "\n",
    "    # initialize with the query word vector\n",
    "    word_vector = model[word]\n",
    "    arrays = np.array([word_vector])\n",
    "    \n",
    "    # gets list of most similar words/skills to target word\n",
    "    close_words = model.wv.most_similar([word_vector])\n",
    "    \n",
    "    # adds the vector for each of the closest words to the array\n",
    "    for wrd_score in close_words:\n",
    "        wrd_vector = model.wv.get_vector(wrd_score[0])\n",
    "        word_labels.append(wrd_score[0])\n",
    "        color_list.append('blue')\n",
    "        arrays = np.append(arrays, [wrd_vector], axis=0)\n",
    "    \n",
    "    # adds the vector for each of the words from list_names to the array\n",
    "    # used for comparison in visualization\n",
    "    for wrd in list_names:\n",
    "        wrd_vector = model.wv.get_vector(wrd)\n",
    "        word_labels.append(wrd)\n",
    "        color_list.append('green')\n",
    "        arrays = np.append(arrays, [wrd_vector], axis=0)\n",
    "    \n",
    "    # Finds t-SNE coordinates for 2 dimensions\n",
    "    np.set_printoptions(suppress=True)\n",
    "    \n",
    "    Y = TSNE(n_components=2, random_state=0, perplexity=15).fit_transform(arrays)\n",
    "    \n",
    "    # Sets everything up to plot\n",
    "    df = pd.DataFrame({'X': [x for x in Y[:, 0]],\n",
    "                       'Y': [y for y in Y[:, 1]],\n",
    "                       'skill': word_labels,\n",
    "                       'color': color_list})\n",
    "    \n",
    "    return (df, Y)"
   ]
  },
  {
   "cell_type": "markdown",
   "metadata": {},
   "source": [
    "Run the conversion so we can visualize it"
   ]
  },
  {
   "cell_type": "code",
   "execution_count": 35,
   "metadata": {},
   "outputs": [
    {
     "name": "stderr",
     "output_type": "stream",
     "text": [
      "/anaconda3/envs/dataworks-forge/lib/python3.6/site-packages/ipykernel_launcher.py:17: DeprecationWarning: Call to deprecated `__getitem__` (Method will be removed in 4.0.0, use self.wv.__getitem__() instead).\n"
     ]
    }
   ],
   "source": [
    "df_tsne, Y = tsneconversion(model, 'data scientist', ['cook', 'janitor', 'waiter'])"
   ]
  },
  {
   "cell_type": "markdown",
   "metadata": {},
   "source": [
    "## Visualization"
   ]
  },
  {
   "cell_type": "code",
   "execution_count": 36,
   "metadata": {},
   "outputs": [],
   "source": [
    "def cluster_visualization(df, word, Y, x_lim, y_lim):\n",
    "    \"\"\"\n",
    "    Function contains\n",
    "    df = dataframe contanining t-SNE X and Y value for the relavent scatter plot\n",
    "    word = name of the job or skill\n",
    "    Y = The t-SNE coordinates of all datapoints\n",
    "    x_lim, y_lim = Plot limit\n",
    "    \"\"\"\n",
    "    \n",
    "    fig, _ = plt.subplots()\n",
    "    fig.set_size_inches(10, 10)\n",
    "    \n",
    "    # Basic plot\n",
    "    p1 = sns.regplot(data=df,\n",
    "                     x=\"X\",\n",
    "                     y=\"Y\",\n",
    "                     fit_reg=False,\n",
    "                     marker=\"o\",\n",
    "                     scatter_kws={'s': 40,\n",
    "                                  'facecolors': df['color']\n",
    "                                 }\n",
    "                    )\n",
    "    \n",
    "    # Adds annotations one by one with a loop\n",
    "    for line in range(0, df.shape[0]):\n",
    "         p1.text(df[\"X\"][line],\n",
    "                 df['Y'][line],\n",
    "                 '  ' + df[\"skill\"][line].title(),\n",
    "                 horizontalalignment='left',\n",
    "                 verticalalignment='bottom', size='medium',\n",
    "                 color=df['color'][line],\n",
    "                 weight='normal'\n",
    "                ).set_size(18)\n",
    "\n",
    "    \n",
    "    #plt.xlim(Y[:, 0].min()-150, Y[:, 0].max()+500)\n",
    "    #plt.ylim(Y[:, 1].min()-150, Y[:, 1].max()+200)\n",
    "    \n",
    "    if x_lim != 0:\n",
    "        plt.xlim(Y[:, 0].min()-x_lim, Y[:, 0].max()+x_lim)\n",
    "        plt.ylim(Y[:, 1].min()-y_lim, Y[:, 1].max()+y_lim)\n",
    "            \n",
    "    plt.title('Visualization for {}'.format(word.title()))\n",
    "    #fig1 = p1.get_figure()\n",
    "    #fig1.savefig(\"output.png\")"
   ]
  },
  {
   "cell_type": "code",
   "execution_count": 37,
   "metadata": {},
   "outputs": [
    {
     "data": {
      "image/png": "[encoded data removed]",
      "text/plain": [
       "<Figure size 720x720 with 1 Axes>"
      ]
     },
     "metadata": {},
     "output_type": "display_data"
    }
   ],
   "source": [
    "# visualize cluster that has been reduced in dimensionality by t-sne\n",
    "# the cluster here is pure word embeddings and simply based on closeness\n",
    "# by embedding similarity\n",
    "cluster_visualization(df_tsne, 'data scientist', Y, 500, 200)"
   ]
  },
  {
   "cell_type": "markdown",
   "metadata": {},
   "source": [
    "## K Mean Clustering of Skills"
   ]
  },
  {
   "cell_type": "code",
   "execution_count": 38,
   "metadata": {},
   "outputs": [
    {
     "name": "stderr",
     "output_type": "stream",
     "text": [
      "/anaconda3/envs/dataworks-forge/lib/python3.6/site-packages/ipykernel_launcher.py:11: DeprecationWarning: Call to deprecated `__getitem__` (Method will be removed in 4.0.0, use self.wv.__getitem__() instead).\n",
      "  # This is added back by InteractiveShellApp.init_path()\n"
     ]
    }
   ],
   "source": [
    "from nltk.cluster import KMeansClusterer\n",
    "import nltk\n",
    "\n",
    "# Take the word vectors\n",
    "vec_tor = model.wv.vectors\n",
    "\n",
    "# Number of cluster\n",
    "NUM_CLUSTERS=15\n",
    "\n",
    "unique_jobs = set(df['job_name'])\n",
    "initial_means = [model[job.lower()] for job in unique_jobs]"
   ]
  },
  {
   "cell_type": "code",
   "execution_count": 39,
   "metadata": {},
   "outputs": [],
   "source": [
    "# Run K-Mean clustering\n",
    "kclusterer = KMeansClusterer(\n",
    "  NUM_CLUSTERS,\n",
    "  distance=nltk.cluster.util.cosine_distance,\n",
    "  initial_means = initial_means,\n",
    "  repeats=1\n",
    ")\n",
    "assigned_clusters = kclusterer.cluster(vec_tor, assign_clusters=True)"
   ]
  },
  {
   "cell_type": "markdown",
   "metadata": {},
   "source": [
    "## PCA and t-SNE reduction for K Mean Visualization"
   ]
  },
  {
   "cell_type": "code",
   "execution_count": 41,
   "metadata": {
    "scrolled": true
   },
   "outputs": [],
   "source": [
    "# get the vocabulary\n",
    "vocabulary = list(model.wv.vocab)\n",
    "# Create a dataframe containing each skill and corresponding cluster number\n",
    "df_cluster = pd.DataFrame({'skill':vocabulary, 'cluster':assigned_clusters})\n",
    "    \n",
    "# Finds t-SNE coordinates for 2 dimensions\n",
    "np.set_printoptions(suppress=True)\n",
    "\n",
    "Y = TSNE(n_components=2, random_state=0, perplexity=15).fit_transform(vec_tor)"
   ]
  },
  {
   "cell_type": "markdown",
   "metadata": {},
   "source": [
    "## K Mean Visualization"
   ]
  },
  {
   "cell_type": "code",
   "execution_count": 42,
   "metadata": {},
   "outputs": [],
   "source": [
    "df_kclust = pd.DataFrame({'X': Y[:,0], 'Y': Y[:,1]})\n",
    "df_concat = pd.concat([df_kclust, df_cluster], axis = 1)"
   ]
  },
  {
   "cell_type": "code",
   "execution_count": 43,
   "metadata": {},
   "outputs": [
    {
     "data": {
      "text/html": [
       "<div>\n",
       "<style scoped>\n",
       "    .dataframe tbody tr th:only-of-type {\n",
       "        vertical-align: middle;\n",
       "    }\n",
       "\n",
       "    .dataframe tbody tr th {\n",
       "        vertical-align: top;\n",
       "    }\n",
       "\n",
       "    .dataframe thead th {\n",
       "        text-align: right;\n",
       "    }\n",
       "</style>\n",
       "<table border=\"1\" class=\"dataframe\">\n",
       "  <thead>\n",
       "    <tr style=\"text-align: right;\">\n",
       "      <th></th>\n",
       "      <th>skill</th>\n",
       "      <th>cluster</th>\n",
       "    </tr>\n",
       "  </thead>\n",
       "  <tbody>\n",
       "    <tr>\n",
       "      <th>0</th>\n",
       "      <td>cashier</td>\n",
       "      <td>10</td>\n",
       "    </tr>\n",
       "    <tr>\n",
       "      <th>527</th>\n",
       "      <td>host</td>\n",
       "      <td>1</td>\n",
       "    </tr>\n",
       "    <tr>\n",
       "      <th>539</th>\n",
       "      <td>waiter</td>\n",
       "      <td>3</td>\n",
       "    </tr>\n",
       "    <tr>\n",
       "      <th>1019</th>\n",
       "      <td>cook</td>\n",
       "      <td>12</td>\n",
       "    </tr>\n",
       "    <tr>\n",
       "      <th>2311</th>\n",
       "      <td>sales representative</td>\n",
       "      <td>5</td>\n",
       "    </tr>\n",
       "    <tr>\n",
       "      <th>3029</th>\n",
       "      <td>secretary</td>\n",
       "      <td>2</td>\n",
       "    </tr>\n",
       "    <tr>\n",
       "      <th>4910</th>\n",
       "      <td>data engineer</td>\n",
       "      <td>1</td>\n",
       "    </tr>\n",
       "    <tr>\n",
       "      <th>5077</th>\n",
       "      <td>data scientist</td>\n",
       "      <td>5</td>\n",
       "    </tr>\n",
       "    <tr>\n",
       "      <th>5478</th>\n",
       "      <td>software engineer</td>\n",
       "      <td>4</td>\n",
       "    </tr>\n",
       "    <tr>\n",
       "      <th>6666</th>\n",
       "      <td>office clerk</td>\n",
       "      <td>5</td>\n",
       "    </tr>\n",
       "    <tr>\n",
       "      <th>7928</th>\n",
       "      <td>financial manager</td>\n",
       "      <td>13</td>\n",
       "    </tr>\n",
       "    <tr>\n",
       "      <th>9413</th>\n",
       "      <td>hair stylist</td>\n",
       "      <td>2</td>\n",
       "    </tr>\n",
       "    <tr>\n",
       "      <th>10524</th>\n",
       "      <td>janitor</td>\n",
       "      <td>13</td>\n",
       "    </tr>\n",
       "    <tr>\n",
       "      <th>11200</th>\n",
       "      <td>payroll clerk</td>\n",
       "      <td>13</td>\n",
       "    </tr>\n",
       "    <tr>\n",
       "      <th>12065</th>\n",
       "      <td>production clerk</td>\n",
       "      <td>13</td>\n",
       "    </tr>\n",
       "  </tbody>\n",
       "</table>\n",
       "</div>"
      ],
      "text/plain": [
       "                      skill  cluster\n",
       "0                   cashier       10\n",
       "527                    host        1\n",
       "539                  waiter        3\n",
       "1019                   cook       12\n",
       "2311   sales representative        5\n",
       "3029              secretary        2\n",
       "4910          data engineer        1\n",
       "5077         data scientist        5\n",
       "5478      software engineer        4\n",
       "6666           office clerk        5\n",
       "7928      financial manager       13\n",
       "9413           hair stylist        2\n",
       "10524               janitor       13\n",
       "11200         payroll clerk       13\n",
       "12065      production clerk       13"
      ]
     },
     "execution_count": 43,
     "metadata": {},
     "output_type": "execute_result"
    }
   ],
   "source": [
    "unique_jobs = set(job_label)\n",
    "df_jobs_and_cluster = df_cluster[df_cluster.skill.isin(unique_jobs)]\n",
    "df_jobs_and_cluster"
   ]
  },
  {
   "cell_type": "code",
   "execution_count": 44,
   "metadata": {},
   "outputs": [
    {
     "name": "stderr",
     "output_type": "stream",
     "text": [
      "/anaconda3/envs/dataworks-forge/lib/python3.6/site-packages/pandas/core/indexing.py:362: SettingWithCopyWarning: \n",
      "A value is trying to be set on a copy of a slice from a DataFrame.\n",
      "Try using .loc[row_indexer,col_indexer] = value instead\n",
      "\n",
      "See the caveats in the documentation: http://pandas.pydata.org/pandas-docs/stable/indexing.html#indexing-view-versus-copy\n",
      "  self.obj[key] = _infer_fill_value(value)\n",
      "/anaconda3/envs/dataworks-forge/lib/python3.6/site-packages/pandas/core/indexing.py:543: SettingWithCopyWarning: \n",
      "A value is trying to be set on a copy of a slice from a DataFrame.\n",
      "Try using .loc[row_indexer,col_indexer] = value instead\n",
      "\n",
      "See the caveats in the documentation: http://pandas.pydata.org/pandas-docs/stable/indexing.html#indexing-view-versus-copy\n",
      "  self.obj[item] = s\n"
     ]
    },
    {
     "data": {
      "image/png": "[encoded data removed]",
      "text/plain": [
       "<Figure size 720x720 with 1 Axes>"
      ]
     },
     "metadata": {},
     "output_type": "display_data"
    }
   ],
   "source": [
    "df_kclust = pd.DataFrame({'X': Y[:,0], 'Y': Y[:,1]})\n",
    "df_concat = pd.concat([df_kclust, df_cluster], axis = 1)\n",
    "\n",
    "job_title = 'host'\n",
    "## CLuser plot for jobs\n",
    "job = df_concat[df_concat.skill == job_title]\n",
    "job.loc[:,\"color\"] = \"red\"\n",
    "clust_number = job.cluster.values[0]\n",
    "job_cluster = df_concat[df_concat.cluster == clust_number]\n",
    "\n",
    "N_sample = 10\n",
    "color = [\"blue\"] * N_sample\n",
    "df_plot = job_cluster.sample(N_sample, random_state=55)\n",
    "df_plot[\"color\"] = color\n",
    "df_plot = pd.concat([job, df_plot])\n",
    "df_plot = df_plot.reset_index(drop=True)\n",
    "\n",
    "cluster_visualization(df_plot, job_title, Y, 0, 0)"
   ]
  }
 ],
 "metadata": {
  "kernelspec": {
   "display_name": "Python 3",
   "language": "python",
   "name": "python3"
  },
  "language_info": {
   "codemirror_mode": {
    "name": "ipython",
    "version": 3
   },
   "file_extension": ".py",
   "mimetype": "text/x-python",
   "name": "python",
   "nbconvert_exporter": "python",
   "pygments_lexer": "ipython3",
   "version": "3.6.7"
  }
 },
 "nbformat": 4,
 "nbformat_minor": 2
}
